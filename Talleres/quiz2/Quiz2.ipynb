{
  "nbformat": 4,
  "nbformat_minor": 0,
  "metadata": {
    "colab": {
      "name": "Quiz2.ipynb",
      "provenance": [],
      "collapsed_sections": []
    },
    "kernelspec": {
      "name": "python3",
      "display_name": "Python 3"
    }
  },
  "cells": [
    {
      "cell_type": "code",
      "metadata": {
        "id": "qN0t1OMF6TCn",
        "colab_type": "code",
        "colab": {
          "base_uri": "https://localhost:8080/",
          "height": 54
        },
        "outputId": "d883f6ae-08bd-4f2f-cdb4-3378e2e92a75"
      },
      "source": [
        "import requests\n",
        "\n",
        "url = \"https://noticias.caracoltv.com/\"\n",
        "response = requests.get(url)\n",
        "response\n",
        "print (dir(response))\n"
      ],
      "execution_count": 22,
      "outputs": [
        {
          "output_type": "stream",
          "text": [
            "['__attrs__', '__bool__', '__class__', '__delattr__', '__dict__', '__dir__', '__doc__', '__enter__', '__eq__', '__exit__', '__format__', '__ge__', '__getattribute__', '__getstate__', '__gt__', '__hash__', '__init__', '__init_subclass__', '__iter__', '__le__', '__lt__', '__module__', '__ne__', '__new__', '__nonzero__', '__reduce__', '__reduce_ex__', '__repr__', '__setattr__', '__setstate__', '__sizeof__', '__str__', '__subclasshook__', '__weakref__', '_content', '_content_consumed', '_next', 'apparent_encoding', 'close', 'connection', 'content', 'cookies', 'elapsed', 'encoding', 'headers', 'history', 'is_permanent_redirect', 'is_redirect', 'iter_content', 'iter_lines', 'json', 'links', 'next', 'ok', 'raise_for_status', 'raw', 'reason', 'request', 'status_code', 'text', 'url']\n"
          ],
          "name": "stdout"
        }
      ]
    },
    {
      "cell_type": "code",
      "metadata": {
        "id": "kuwUKEyl68Ll",
        "colab_type": "code",
        "colab": {
          "base_uri": "https://localhost:8080/",
          "height": 1000
        },
        "outputId": "778a9671-8b09-4c07-c5f9-5c8291f34089"
      },
      "source": [
        "import bs4\n",
        "Soup = bs4.BeautifulSoup(response.text,\"html.parser\")\n",
        "noticiasCaracol = Soup.select(\".PromoB-title \")\n",
        "print (noticiasCaracol)"
      ],
      "execution_count": 46,
      "outputs": [
        {
          "output_type": "stream",
          "text": [
            "[<h3 class=\"PromoB-title\">\n",
            "<a class=\"Link\" data-cms-ai=\"0\" href=\"https://noticias.caracoltv.com/economia/por-fin-vera-la-luz-el-tunel-de-la-linea-empieza-a-funcionar-este-4-de-septiembre\">¡Por fin verá la luz! El túnel de La Línea empieza a funcionar este 4 de septiembre </a>\n",
            "</h3>, <h3 class=\"PromoB-title\">\n",
            "<a class=\"Link\" data-cms-ai=\"0\" href=\"https://noticias.caracoltv.com/caribe/acordeonero-que-le-canto-a-la-pandemia-y-sobrevivio-al-covid-perdio-la-batalla-contra-otro-enemigo\">Acordeonero que le cantó a la pandemia y sobrevivió al COVID perdió la batalla contra otro enemigo</a>\n",
            "</h3>, <h3 class=\"PromoB-title\">\n",
            "<a class=\"Link\" data-cms-ai=\"0\" href=\"https://noticias.caracoltv.com/el-periodista-soy-yo/bus-del-sitp-repleto-de-pasajeros-una-imagen-que-preocupa-en-bogota\">Bus del SITP repleto de pasajeros: una imagen que preocupa en Bogotá </a>\n",
            "</h3>, <h3 class=\"PromoB-title\">\n",
            "<a class=\"Link\" data-cms-ai=\"0\" href=\"https://noticias.caracoltv.com/antioquia/tutela-dice-que-el-cartel-de-medellin-lo-creo-el-clero-ruso-ortodoxo\">Niegan insólita tutela a mujer que dice que el cartel de Medellín lo creó el “Clero Ruso Ortodoxo”</a>\n",
            "</h3>, <h3 class=\"PromoB-title\">\n",
            "<a class=\"Link\" data-cms-ai=\"0\" href=\"https://noticias.caracoltv.com/mundo/bebe-milagro-su-mama-murio-tras-ser-arrollada-por-conductora-ebria\">La historia de una ‘bebé milagro’: su mamá murió tras ser arrollada por conductora ebria </a>\n",
            "</h3>, <h3 class=\"PromoB-title\">\n",
            "<a class=\"Link\" data-cms-ai=\"0\" href=\"https://noticias.caracoltv.com/politica/derrotamos-al-gobierno-se-cayo-el-mico-de-la-ley-de-regalias-que-daba-luz-verde-al-fracking\">\"Derrotamos al gobierno\": se cayó el 'mico' de la ley de regalías que daba luz verde al fracking  </a>\n",
            "</h3>, <h3 class=\"PromoB-title\">\n",
            "<a class=\"Link\" data-cms-ai=\"0\" href=\"https://noticias.caracoltv.com/tour-de-francia/ciclismo-egan-bernal-envio-un-mensaje-tras-la-etapa-6-del-tour-de-francia-hay-que-tener-paciencia\">Egan Bernal envió un mensaje tras la etapa 6 del Tour de Francia: “hay que tener paciencia”</a>\n",
            "</h3>, <h3 class=\"PromoB-title\">\n",
            "<a class=\"Link\" data-cms-ai=\"0\" href=\"https://noticias.caracoltv.com/tour-de-francia/ciclismo-clasificaciones-tour-de-francia-etapa-6\">Clasificación General del Tour de Francia tras la etapa 6</a>\n",
            "</h3>, <h3 class=\"PromoB-title\">\n",
            "<a class=\"Link\" data-cms-ai=\"0\" href=\"https://noticias.caracoltv.com/tour-de-francia/ciclismo-etapa-6-directo-septiembre-3-en-vivo\">Reviva los mejores momentos de la etapa 6 del Tour de Francia\r\n",
            "</a>\n",
            "</h3>, <h3 class=\"PromoB-title\">\n",
            "<a class=\"Link\" data-cms-ai=\"0\" href=\"https://noticias.caracoltv.com/salud/canada-sugiere-saltarse-los-besos-y-usar-tapabocas-durante-el-sexo-en-tiempo-de-coronavirus\">Canadá sugiere \"saltarse\" los besos y usar tapabocas durante el sexo en tiempo de coronavirus</a>\n",
            "</h3>, <h3 class=\"PromoB-title\">\n",
            "<a class=\"Link\" data-cms-ai=\"0\" href=\"https://noticias.caracoltv.com/mundo/india-supero-sus-propias-cifras-record-de-contagios-diarios-con-covid-19\">India superó sus propias cifras récord de contagios diarios con COVID-19 </a>\n",
            "</h3>, <h3 class=\"PromoB-title\">\n",
            "<a class=\"Link\" data-cms-ai=\"0\" href=\"https://noticias.caracoltv.com/salud/colombia-hara-estudio-para-medir-el-dano-causado-por-el-covid-19\">Colombia hará estudio para medir el daño causado por el COVID-19 </a>\n",
            "</h3>, <h3 class=\"PromoB-title\">\n",
            "<a class=\"Link\" data-cms-ai=\"0\" href=\"https://noticias.caracoltv.com/valle/vuelve-la-rumba-y-cali-lo-sabe-asi-sera-aguaelulo-que-reactiva-este-sector-en-la-ciudad\">Vuelve la rumba y Cali lo sabe: así será ‘aguae'lulo’ que reactiva este sector en la ciudad </a>\n",
            "</h3>, <h3 class=\"PromoB-title\">\n",
            "<a class=\"Link\" data-cms-ai=\"0\" href=\"https://noticias.caracoltv.com/salud/el-93-de-proyectos-de-vacunas-no-llegan-a-la-fase-iii-minsalud-pide-optimismo-moderado\">El 93% de proyectos de vacunas no llegan a la fase III: Minsalud pide “optimismo moderado” </a>\n",
            "</h3>, <h3 class=\"PromoB-title\">\n",
            "<a class=\"Link\" data-cms-ai=\"0\" href=\"https://noticias.caracoltv.com/entretenimiento/la-roca-revelo-que-el-y-su-familia-tuvieron-coronavirus\">La Roca reveló que él y su familia tuvieron coronavirus</a>\n",
            "</h3>, <h3 class=\"PromoB-title\">\n",
            "<a class=\"Link\" data-cms-ai=\"0\" href=\"https://noticias.caracoltv.com/salud/vacuna-contra-covid-19-no-estaria-antes-del-primer-semestre-de-2021-minsalud\">Vacuna contra COVID-19 no estaría antes del primer semestre de 2021: Minsalud</a>\n",
            "</h3>, <h3 class=\"PromoB-title\">\n",
            "<a class=\"Link\" data-cms-ai=\"0\" href=\"https://noticias.caracoltv.com/antioquia/mi-bebe-es-muy-pequeno-y-no-le-puedo-faltar-danna-garcia-habla-de-la-muerte-tras-el-covid-19\">“Mi bebé es muy pequeño y no le puedo faltar”: Danna García habla de la muerte tras el COVID-19</a>\n",
            "</h3>, <h3 class=\"PromoB-title\">\n",
            "<a class=\"Link\" data-cms-ai=\"0\" href=\"https://noticias.caracoltv.com/antioquia/preparese-para-ver-mas-gente-en-el-metro-autorizaron-ampliar-su-capacidad-de-ocupacion\">Prepárese para ver más gente en el Metro: autorizaron ampliar su capacidad de ocupación</a>\n",
            "</h3>, <h3 class=\"PromoB-title\">\n",
            "<a class=\"Link\" data-cms-ai=\"0\" href=\"https://noticias.caracoltv.com/valle/por-una-afeccion-respiratoria-clara-luz-roldan-fue-internada-en-una-clinica-de-cali\">Por una “afección respiratoria”, Clara Luz Roldán fue internada en una clínica de Cali</a>\n",
            "</h3>, <h3 class=\"PromoB-title\">\n",
            "<a class=\"Link\" data-cms-ai=\"0\" href=\"https://noticias.caracoltv.com/caribe/heroicos-policias-salvaron-a-mujer-que-estaba-a-punto-de-lanzarse-desde-un-puente-en-magdalena\">Heroicos policías salvaron a mujer que estaba a punto de lanzarse desde un puente en Magdalena</a>\n",
            "</h3>, <h3 class=\"PromoB-title\">\n",
            "<a class=\"Link\" data-cms-ai=\"0\" href=\"https://noticias.caracoltv.com/entretenimiento/respuesta-de-shannon-de-lima-a-usuario-que-le-dijo-mantenida-de-james\">Contundente respuesta de Shannon De Lima a usuario que le dijo “mantenida” de James</a>\n",
            "</h3>, <h3 class=\"PromoB-title\">\n",
            "<a class=\"Link\" data-cms-ai=\"0\" href=\"https://noticias.caracoltv.com/valle/madre-del-delito-mujer-que-integraba-banda-criminal-escondia-las-armas-en-el-coche-de-su-hijo\">Madre del delito: mujer que integraba banda criminal escondía las armas en el coche de su hijo </a>\n",
            "</h3>, <h3 class=\"PromoB-title\">\n",
            "<a class=\"Link\" data-cms-ai=\"0\" href=\"https://noticias.caracoltv.com/antioquia/ciudadanos-denuncian-calvario-para-poder-sacar-sus-vehiculos-de-los-patios-en-medellin\">Ciudadanos denuncian calvario para poder sacar sus vehículos de los patios en Medellín</a>\n",
            "</h3>, <h3 class=\"PromoB-title\">\n",
            "<a class=\"Link\" data-cms-ai=\"0\" href=\"https://noticias.caracoltv.com/caribe/nino-de-12-anos-sufrio-graves-quemaduras-tras-la-caida-de-un-cable-en-barranquilla\">Niño de 12 años sufrió graves quemaduras tras la caída de un cable en Barranquilla </a>\n",
            "</h3>, <h3 class=\"PromoB-title\">\n",
            "<a class=\"Link\" data-cms-ai=\"0\" href=\"https://noticias.caracoltv.com/valle/carcel-para-una-joven-que-asesino-a-una-mujer-durante-una-rina-entre-pandillas\">Cárcel para una joven que asesinó a una mujer durante una riña entre pandillas </a>\n",
            "</h3>, <h3 class=\"PromoB-title\">\n",
            "<a class=\"Link\" data-cms-ai=\"0\" href=\"https://noticias.caracoltv.com/antioquia/rescatan-a-trabajadores-que-habian-caido-a-un-abismo-en-el-tunel-del-toyo\">Rescatan a trabajadores que habían caído a un abismo en el Túnel del Toyo</a>\n",
            "</h3>, <h3 class=\"PromoB-title\">\n",
            "<a class=\"Link\" data-cms-ai=\"0\" href=\"https://noticias.caracoltv.com/valle/asi-termino-un-hombre-que-retuvo-e-intimido-a-su-companera-sentimental-y-a-sus-4-hijos\">Así terminó un hombre que retuvo e intimidó a su compañera sentimental y a sus 4 hijos </a>\n",
            "</h3>, <h3 class=\"PromoB-title\">\n",
            "<a class=\"Link\" data-cms-ai=\"0\" href=\"https://noticias.caracoltv.com/mundo/encuentran-los-cuerpos-de-5-hermanitos-en-un-apartamento-y-la-mama-seria-la-responsable-del-crimen\">Encuentran los cuerpos de 5 hermanitos en un apartamento y la mamá sería la responsable del crimen</a>\n",
            "</h3>, <h3 class=\"PromoB-title\">\n",
            "<a class=\"Link\" data-cms-ai=\"0\" href=\"https://noticias.caracoltv.com/mundo/como-malabarista-de-circo-arriesgo-su-vida-para-robar-cableado-electrico-y-termino-mal\">Como malabarista de circo: arriesgó su vida para robar cableado eléctrico a 10 metros de altura</a>\n",
            "</h3>, <h3 class=\"PromoB-title\">\n",
            "<a class=\"Link\" data-cms-ai=\"0\" href=\"https://noticias.caracoltv.com/mundo/reunion-entre-henrique-capriles-y-el-gobierno-de-maduro-molesto-a-guaido\">Reunión entre Henrique Capriles y el gobierno de Maduro molestó a Guaidó  </a>\n",
            "</h3>, <h3 class=\"PromoB-title\">\n",
            "<a class=\"Link\" data-cms-ai=\"0\" href=\"https://noticias.caracoltv.com/mundo/prueba-indiscutible-confirman-que-alexei-navalny-duro-critico-de-vladimir-putin-fue-envenenado\">“Prueba indiscutible”: confirman que Alexei Navalny, duro crítico de Vladimir Putin, fue envenenado </a>\n",
            "</h3>, <h3 class=\"PromoB-title\">\n",
            "<a class=\"Link\" data-cms-ai=\"0\" href=\"https://noticias.caracoltv.com/mundo/ee-uu-se-la-juega-por-deportar-a-mancuso-a-colombia-estos-dos-sus-argumentos\">EE. UU. se la juega por deportar a Mancuso a Colombia: estos son sus argumentos  </a>\n",
            "</h3>, <h3 class=\"PromoB-title\">\n",
            "<a class=\"Link\" data-cms-ai=\"0\" href=\"https://noticias.caracoltv.com/mundo/esto-es-hermoso-papa-francisco-se-reencuentra-cara-a-cara-con-fieles-luego-de-6-meses\">“Esto es hermoso”: papa Francisco se reencuentra cara a cara con fieles luego de 6 meses</a>\n",
            "</h3>, <h3 class=\"PromoB-title\">\n",
            "<a class=\"Link\" data-cms-ai=\"0\" href=\"https://noticias.caracoltv.com/mundo/muere-joven-embarazada-en-atentado-contra-su-novio-mientras-ambos-dormian\">Muere joven embarazada en atentado contra su novio mientras ambos dormían</a>\n",
            "</h3>, <h3 class=\"PromoB-title\">\n",
            "<a class=\"Link\" data-cms-ai=\"0\" href=\"https://noticias.caracoltv.com/mundo/se-le-dano-la-risa-a-grupo-de-payasos-que-despedia-con-fiesta-a-uno-de-sus-colegas\">Se les dañó la risa a payasos que despedían con fiesta a uno de sus colegas</a>\n",
            "</h3>, <h3 class=\"PromoB-title\">\n",
            "<a class=\"Link\" data-cms-ai=\"0\" href=\"https://noticias.caracoltv.com/mundo/ee-uu-no-participara-en-plataforma-de-la-oms-para-distribuir-la-vacuna-del-coronavirus\">EE. UU. no participará en plataforma de la OMS para distribuir la vacuna del coronavirus </a>\n",
            "</h3>, <h3 class=\"PromoB-title\">\n",
            "<a class=\"Link\" data-cms-ai=\"0\" href=\"https://noticias.caracoltv.com/mundo/muere-otro-hombre-afroamericano-a-manos-de-la-policia-en-ee-uu-denuncian-que-le-dieron-mas-de-20-tiros\">Muere otro afroamericano a manos de la Policía en EE. UU.: denuncian que le dieron más de 20 tiros</a>\n",
            "</h3>, <h3 class=\"PromoB-title\">\n",
            "<a class=\"Link\" data-cms-ai=\"0\" href=\"https://noticias.caracoltv.com/salud/casos-de-coronavirus-colombia-2-de-septiembre\">Coronavirus cobró la vida de otros 296 colombianos: han muerto 20.348</a>\n",
            "</h3>, <h3 class=\"PromoB-title\">\n",
            "<a class=\"Link\" data-cms-ai=\"0\" href=\"https://noticias.caracoltv.com/salud/desde-el-congreso-denuncian-manipulacion-de-cifras-para-aplanar-curva-del-covid-19\">Desde el Congreso denuncian manipulación de cifras para aplanar curva del COVID-19 </a>\n",
            "</h3>, <h3 class=\"PromoB-title\">\n",
            "<a class=\"Link\" data-cms-ai=\"0\" href=\"https://noticias.caracoltv.com/salud/heroica-labor-de-100-voluntarios-que-lucharon-contra-el-covid-en-varias-zonas-de-colombia\">Heroica labor de 100 voluntarios que lucharon contra el COVID en varias zonas de Colombia</a>\n",
            "</h3>, <h3 class=\"PromoB-title\">\n",
            "<a class=\"Link\" data-cms-ai=\"0\" href=\"https://noticias.caracoltv.com/salud/casos-de-coronavirus-colombia-1-de-septiembre\">Colombia supera los 20 mil muertos por coronavirus, justo el día que empieza la \"nueva realidad\"</a>\n",
            "</h3>, <h3 class=\"PromoB-title\">\n",
            "<a class=\"Link\" data-cms-ai=\"0\" href=\"https://noticias.caracoltv.com/salud/bacteriologa-contrajo-covid-19-en-abril-y-volvio-a-dar-positivo-en-julio-puede-ser-reinfeccion\">Bacterióloga contrajo COVID-19 en abril y volvió a dar positivo en julio: ¿puede ser reinfección? </a>\n",
            "</h3>, <h3 class=\"PromoB-title\">\n",
            "<a class=\"Link\" data-cms-ai=\"0\" href=\"https://noticias.caracoltv.com/salud/cuidado-gobierno-reconoce-que-con-nueva-normalidad-puede-haber-un-rebrote-del-coronavirus\">¡Cuidado! Gobierno reconoce que con nueva normalidad puede haber un rebrote del coronavirus \r\n",
            " </a>\n",
            "</h3>, <h3 class=\"PromoB-title\">\n",
            "<a class=\"Link\" data-cms-ai=\"0\" href=\"https://noticias.caracoltv.com/salud/casos-de-coronavirus-colombia-31-de-agosto\">Colombia se acerca a las 20.000 muertes por COVID-19 al registrar 299 en el último reporte</a>\n",
            "</h3>, <h3 class=\"PromoB-title\">\n",
            "<a class=\"Link\" data-cms-ai=\"0\" href=\"https://noticias.caracoltv.com/salud/tiene-barba-ojo-a-estas-recomendaciones-a-la-hora-de-usar-tapabocas\">¿Tiene barba? Ojo a estas recomendaciones a la hora de usar tapabocas</a>\n",
            "</h3>, <h3 class=\"PromoB-title\">\n",
            "<a class=\"Link\" data-cms-ai=\"0\" href=\"https://noticias.caracoltv.com/salud/como-se-ve-afectado-el-olfato-por-el-coronavirus\">¿Cómo se ve afectado el olfato por el coronavirus?  </a>\n",
            "</h3>, <h3 class=\"PromoB-title\">\n",
            "<a class=\"Link\" data-cms-ai=\"0\" href=\"https://noticias.caracoltv.com/salud/que-significa-el-rastreo-de-contactos-de-covid-19-y-por-que-es-tan-importante\">¿Qué significa el rastreo de contactos de COVID-19 y por qué es tan importante? </a>\n",
            "</h3>, <h3 class=\"PromoB-title\">\n",
            "<a class=\"Link\" data-cms-ai=\"0\" href=\"https://noticias.caracoltv.com/entretenimiento/natalia-paris-sorprende-a-sus-seguidores-al-revelar-experiencia-paranormal\">Natalia París sorprende a sus seguidores al revelar experiencia paranormal</a>\n",
            "</h3>, <h3 class=\"PromoB-title\">\n",
            "<a class=\"Link\" data-cms-ai=\"0\" href=\"https://noticias.caracoltv.com/entretenimiento/una-experiencia-maravillosa-fernando-trueba-sobre-hacer-el-olvido-que-seremos-en-colombia\">“Una experiencia maravillosa”: Fernando Trueba sobre hacer ‘El olvido que seremos’ en Colombia</a>\n",
            "</h3>, <h3 class=\"PromoB-title\">\n",
            "<a class=\"Link\" data-cms-ai=\"0\" href=\"https://noticias.caracoltv.com/entretenimiento/dedicatoria-de-la-chilindrina-por-cumpleanos-de-don-ramon\">“Te extraño mucho, papá”: tierna dedicatoria de La Chilindrina por cumpleaños de Don Ramón</a>\n",
            "</h3>, <h3 class=\"PromoB-title\">\n",
            "<a class=\"Link\" data-cms-ai=\"0\" href=\"https://noticias.caracoltv.com/entretenimiento/salir-de-la-pobreza-ni-siquiera-es-tener-dinero-vea-el-contundente-mensaje-que-envio-la-liendra\">“Salir de la pobreza ni siquiera es tener dinero”: vea el contundente mensaje que envió La Liendra</a>\n",
            "</h3>, <h3 class=\"PromoB-title\">\n",
            "<a class=\"Link\" data-cms-ai=\"0\" href=\"https://noticias.caracoltv.com/entretenimiento/el-dj-erick-morillo-muerto-en-extranas-circunstancias-enfrentaba-un-proceso-judicial-hace-un-mes\">El DJ Erick Morillo, muerto en extrañas circunstancias, enfrentaba un proceso judicial hace un mes</a>\n",
            "</h3>, <h3 class=\"PromoB-title\">\n",
            "<a class=\"Link\" data-cms-ai=\"0\" href=\"https://noticias.caracoltv.com/entretenimiento/bts-habla-de-su-exitosa-cancion-dynamite-y-envia-un-mensaje-a-los-army-de-todo-el-mundo\">BTS habla de su exitosa canción ‘Dynamite’ y envía un mensaje a los 'Army' de todo el mundo</a>\n",
            "</h3>, <h3 class=\"PromoB-title\">\n",
            "<a class=\"Link\" data-cms-ai=\"0\" href=\"https://noticias.caracoltv.com/entretenimiento/sara-uribe-ensena-el-tatuaje-que-se-hizo-en-pareja\">Sara Uribe enseña el tatuaje que se hizo en pareja </a>\n",
            "</h3>, <h3 class=\"PromoB-title\">\n",
            "<a class=\"Link\" data-cms-ai=\"0\" href=\"https://noticias.caracoltv.com/entretenimiento/elton-john-billie-eilish-y-ozzy-osbourne-donaron-valiosos-objetos-para-una-subasta-benefica\">Elton John, Billie Eilish y Ozzy Osbourne donaron valiosos objetos para una subasta benéfica  </a>\n",
            "</h3>, <h3 class=\"PromoB-title\">\n",
            "<a class=\"Link\" data-cms-ai=\"0\" href=\"https://noticias.caracoltv.com/entretenimiento/jennifer-lopez-liderara-campana-para-que-las-mujeres-latinas-voten-en-elecciones-de-ee-uu\">Jennifer Lopez liderará campaña para que las mujeres latinas voten en elecciones de EE. UU.</a>\n",
            "</h3>, <h3 class=\"PromoB-title\">\n",
            "<a class=\"Link\" data-cms-ai=\"0\" href=\"https://noticias.caracoltv.com/antioquia/danna-garcia-y-las-secuelas-del-covid-19-es-una-sensacion-de-que-vas-a-atravesar-el-piso\">Danna García y las secuelas del COVID-19: “Es una sensación de que vas a atravesar el piso”</a>\n",
            "</h3>]\n"
          ],
          "name": "stdout"
        }
      ]
    },
    {
      "cell_type": "code",
      "metadata": {
        "id": "XNKDHWcx8r1U",
        "colab_type": "code",
        "colab": {
          "base_uri": "https://localhost:8080/",
          "height": 70
        },
        "outputId": "2f0e2867-dff3-4d5b-c2a8-0767d36d4b1f"
      },
      "source": [
        "titulos =[]\n",
        "links = []\n",
        "for noticia in noticiasCaracol:\n",
        "  titulos.append(noticia.text)\n",
        "  links.append(\"https://noticias.caracoltv.com/\")\n",
        "print (titulos)\n",
        "print (links)\n",
        "NoticiasC = {}\n",
        "NoticiasC['Noticias']= titulos\n",
        "NoticiasC['links']= links"
      ],
      "execution_count": 38,
      "outputs": [
        {
          "output_type": "stream",
          "text": [
            "['\\n¡Por fin verá la luz! El túnel de La Línea empieza a funcionar este 4 de septiembre \\n', '\\nAcordeonero que le cantó a la pandemia y sobrevivió al COVID perdió la batalla contra otro enemigo\\n', '\\nBus del SITP repleto de pasajeros: una imagen que preocupa en Bogotá \\n', '\\nNiegan insólita tutela a mujer que dice que el cartel de Medellín lo creó el “Clero Ruso Ortodoxo”\\n', '\\nLa historia de una ‘bebé milagro’: su mamá murió tras ser arrollada por conductora ebria \\n', '\\n\"Derrotamos al gobierno\": se cayó el \\'mico\\' de la ley de regalías que daba luz verde al fracking  \\n', '\\nEgan Bernal envió un mensaje tras la etapa 6 del Tour de Francia: “hay que tener paciencia”\\n', '\\nClasificación General del Tour de Francia tras la etapa 6\\n', '\\nReviva los mejores momentos de la etapa 6 del Tour de Francia\\r\\n\\n', '\\nCanadá sugiere \"saltarse\" los besos y usar tapabocas durante el sexo en tiempo de coronavirus\\n', '\\nIndia superó sus propias cifras récord de contagios diarios con COVID-19 \\n', '\\nColombia hará estudio para medir el daño causado por el COVID-19 \\n', \"\\nVuelve la rumba y Cali lo sabe: así será ‘aguae'lulo’ que reactiva este sector en la ciudad \\n\", '\\nEl 93% de proyectos de vacunas no llegan a la fase III: Minsalud pide “optimismo moderado” \\n', '\\nLa Roca reveló que él y su familia tuvieron coronavirus\\n', '\\nVacuna contra COVID-19 no estaría antes del primer semestre de 2021: Minsalud\\n', '\\n“Mi bebé es muy pequeño y no le puedo faltar”: Danna García habla de la muerte tras el COVID-19\\n', '\\nPrepárese para ver más gente en el Metro: autorizaron ampliar su capacidad de ocupación\\n', '\\nPor una “afección respiratoria”, Clara Luz Roldán fue internada en una clínica de Cali\\n', '\\nHeroicos policías salvaron a mujer que estaba a punto de lanzarse desde un puente en Magdalena\\n', '\\nContundente respuesta de Shannon De Lima a usuario que le dijo “mantenida” de James\\n', '\\nMadre del delito: mujer que integraba banda criminal escondía las armas en el coche de su hijo \\n', '\\nCiudadanos denuncian calvario para poder sacar sus vehículos de los patios en Medellín\\n', '\\nNiño de 12 años sufrió graves quemaduras tras la caída de un cable en Barranquilla \\n', '\\nCárcel para una joven que asesinó a una mujer durante una riña entre pandillas \\n', '\\nRescatan a trabajadores que habían caído a un abismo en el Túnel del Toyo\\n', '\\nAsí terminó un hombre que retuvo e intimidó a su compañera sentimental y a sus 4 hijos \\n', '\\nEncuentran los cuerpos de 5 hermanitos en un apartamento y la mamá sería la responsable del crimen\\n', '\\nComo malabarista de circo: arriesgó su vida para robar cableado eléctrico a 10 metros de altura\\n', '\\nReunión entre Henrique Capriles y el gobierno de Maduro molestó a Guaidó  \\n', '\\n“Prueba indiscutible”: confirman que Alexei Navalny, duro crítico de Vladimir Putin, fue envenenado \\n', '\\nEE. UU. se la juega por deportar a Mancuso a Colombia: estos son sus argumentos  \\n', '\\n“Esto es hermoso”: papa Francisco se reencuentra cara a cara con fieles luego de 6 meses\\n', '\\nMuere joven embarazada en atentado contra su novio mientras ambos dormían\\n', '\\nSe les dañó la risa a payasos que despedían con fiesta a uno de sus colegas\\n', '\\nEE. UU. no participará en plataforma de la OMS para distribuir la vacuna del coronavirus \\n', '\\nMuere otro afroamericano a manos de la Policía en EE. UU.: denuncian que le dieron más de 20 tiros\\n', '\\nCoronavirus cobró la vida de otros 296 colombianos: han muerto 20.348\\n', '\\nDesde el Congreso denuncian manipulación de cifras para aplanar curva del COVID-19 \\n', '\\nHeroica labor de 100 voluntarios que lucharon contra el COVID en varias zonas de Colombia\\n', '\\nColombia supera los 20 mil muertos por coronavirus, justo el día que empieza la \"nueva realidad\"\\n', '\\nBacterióloga contrajo COVID-19 en abril y volvió a dar positivo en julio: ¿puede ser reinfección? \\n', '\\n¡Cuidado! Gobierno reconoce que con nueva normalidad puede haber un rebrote del coronavirus \\r\\n \\n', '\\nColombia se acerca a las 20.000 muertes por COVID-19 al registrar 299 en el último reporte\\n', '\\n¿Tiene barba? Ojo a estas recomendaciones a la hora de usar tapabocas\\n', '\\n¿Cómo se ve afectado el olfato por el coronavirus?  \\n', '\\n¿Qué significa el rastreo de contactos de COVID-19 y por qué es tan importante? \\n', '\\nNatalia París sorprende a sus seguidores al revelar experiencia paranormal\\n', '\\n“Una experiencia maravillosa”: Fernando Trueba sobre hacer ‘El olvido que seremos’ en Colombia\\n', '\\n“Te extraño mucho, papá”: tierna dedicatoria de La Chilindrina por cumpleaños de Don Ramón\\n', '\\n“Salir de la pobreza ni siquiera es tener dinero”: vea el contundente mensaje que envió La Liendra\\n', '\\nEl DJ Erick Morillo, muerto en extrañas circunstancias, enfrentaba un proceso judicial hace un mes\\n', \"\\nBTS habla de su exitosa canción ‘Dynamite’ y envía un mensaje a los 'Army' de todo el mundo\\n\", '\\nSara Uribe enseña el tatuaje que se hizo en pareja \\n', '\\nElton John, Billie Eilish y Ozzy Osbourne donaron valiosos objetos para una subasta benéfica  \\n', '\\nJennifer Lopez liderará campaña para que las mujeres latinas voten en elecciones de EE. UU.\\n', '\\nDanna García y las secuelas del COVID-19: “Es una sensación de que vas a atravesar el piso”\\n']\n",
            "['https://noticias.caracoltv.com/', 'https://noticias.caracoltv.com/', 'https://noticias.caracoltv.com/', 'https://noticias.caracoltv.com/', 'https://noticias.caracoltv.com/', 'https://noticias.caracoltv.com/', 'https://noticias.caracoltv.com/', 'https://noticias.caracoltv.com/', 'https://noticias.caracoltv.com/', 'https://noticias.caracoltv.com/', 'https://noticias.caracoltv.com/', 'https://noticias.caracoltv.com/', 'https://noticias.caracoltv.com/', 'https://noticias.caracoltv.com/', 'https://noticias.caracoltv.com/', 'https://noticias.caracoltv.com/', 'https://noticias.caracoltv.com/', 'https://noticias.caracoltv.com/', 'https://noticias.caracoltv.com/', 'https://noticias.caracoltv.com/', 'https://noticias.caracoltv.com/', 'https://noticias.caracoltv.com/', 'https://noticias.caracoltv.com/', 'https://noticias.caracoltv.com/', 'https://noticias.caracoltv.com/', 'https://noticias.caracoltv.com/', 'https://noticias.caracoltv.com/', 'https://noticias.caracoltv.com/', 'https://noticias.caracoltv.com/', 'https://noticias.caracoltv.com/', 'https://noticias.caracoltv.com/', 'https://noticias.caracoltv.com/', 'https://noticias.caracoltv.com/', 'https://noticias.caracoltv.com/', 'https://noticias.caracoltv.com/', 'https://noticias.caracoltv.com/', 'https://noticias.caracoltv.com/', 'https://noticias.caracoltv.com/', 'https://noticias.caracoltv.com/', 'https://noticias.caracoltv.com/', 'https://noticias.caracoltv.com/', 'https://noticias.caracoltv.com/', 'https://noticias.caracoltv.com/', 'https://noticias.caracoltv.com/', 'https://noticias.caracoltv.com/', 'https://noticias.caracoltv.com/', 'https://noticias.caracoltv.com/', 'https://noticias.caracoltv.com/', 'https://noticias.caracoltv.com/', 'https://noticias.caracoltv.com/', 'https://noticias.caracoltv.com/', 'https://noticias.caracoltv.com/', 'https://noticias.caracoltv.com/', 'https://noticias.caracoltv.com/', 'https://noticias.caracoltv.com/', 'https://noticias.caracoltv.com/', 'https://noticias.caracoltv.com/']\n"
          ],
          "name": "stdout"
        }
      ]
    },
    {
      "cell_type": "code",
      "metadata": {
        "id": "_Wu52hkY9XAr",
        "colab_type": "code",
        "colab": {}
      },
      "source": [
        "import pandas as pd \n",
        "NoticiasC= pd.DataFrame(NoticiasC)\n",
        "NoticiasC\n",
        "NoticiasC.to_csv('noticiasCaracol.csv', index= False)"
      ],
      "execution_count": 66,
      "outputs": []
    }
  ]
}
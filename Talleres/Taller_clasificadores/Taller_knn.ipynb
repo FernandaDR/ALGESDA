{
  "nbformat": 4,
  "nbformat_minor": 0,
  "metadata": {
    "colab": {
      "name": "Taller_knn.ipynb",
      "provenance": [],
      "collapsed_sections": []
    },
    "kernelspec": {
      "name": "python3",
      "display_name": "Python 3"
    }
  },
  "cells": [
    {
      "cell_type": "code",
      "metadata": {
        "id": "5pp0hK5W1vut"
      },
      "source": [
        "import sklearn \n",
        "from sklearn.datasets import load_iris\n",
        "from sklearn.model_selection import train_test_split\n",
        "from sklearn.neighbors import KNeighborsClassifier\n",
        "iris=load_iris()\n",
        "\n",
        "datosEntrenamiento, datosPrueba,respuestasEntrenamiento,respuestaPrueba=train_test_split(iris['data'],iris['target'])\n",
        "\n",
        "knn1=KNeighborsClassifier(n_neighbors=3)\n",
        "knn1.fit(datosEntrenamiento,respuestasEntrenamiento)\n",
        "score1=knn1.score(datosPrueba,respuestaPrueba)*100\n",
        "\n",
        "knn2=KNeighborsClassifier(n_neighbors=10)\n",
        "knn2.fit(datosEntrenamiento,respuestasEntrenamiento)\n",
        "score2= knn2.score(datosPrueba,respuestaPrueba)*100\n",
        "\n",
        "knn3=KNeighborsClassifier(n_neighbors=56)\n",
        "knn3.fit(datosEntrenamiento,respuestasEntrenamiento)\n",
        "score3=knn3.score(datosPrueba,respuestaPrueba)*100"
      ],
      "execution_count": 37,
      "outputs": []
    },
    {
      "cell_type": "code",
      "metadata": {
        "id": "83T5R_YPRG6R",
        "outputId": "cf8001d9-5d0e-4786-a0c5-f119cad0551b",
        "colab": {
          "base_uri": "https://localhost:8080/",
          "height": 329
        }
      },
      "source": [
        "score= [score1,score2,score3]\n",
        "print(score)\n",
        "import matplotlib.pyplot as plt\n",
        "vecinos= [\"vecino3\",\"vecino10\", \"vecino56\"]\n",
        "plt.bar(vecinos,score)\n",
        "plt.ylabel(\"Porcentaje\")\n",
        "plt.xlabel(\"Vecinos\")\n",
        "plt.title(\"Comparacion clasificadores\")\n",
        "plt.show()\n",
        "plt.savefig(\"GraficoVecinos.png\")"
      ],
      "execution_count": 39,
      "outputs": [
        {
          "output_type": "stream",
          "text": [
            "[94.73684210526315, 97.36842105263158, 92.10526315789474]\n"
          ],
          "name": "stdout"
        },
        {
          "output_type": "display_data",
          "data": {
            "image/png": "[encoded data removed]",
            "text/plain": [
              "<Figure size 432x288 with 1 Axes>"
            ]
          },
          "metadata": {
            "tags": [],
            "needs_background": "light"
          }
        },
        {
          "output_type": "display_data",
          "data": {
            "text/plain": [
              "<Figure size 432x288 with 0 Axes>"
            ]
          },
          "metadata": {
            "tags": []
          }
        }
      ]
    }
  ]
}
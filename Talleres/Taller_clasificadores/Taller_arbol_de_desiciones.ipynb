{
  "nbformat": 4,
  "nbformat_minor": 0,
  "metadata": {
    "colab": {
      "name": "Taller_arbol_de_desiciones.ipynb",
      "provenance": []
    },
    "kernelspec": {
      "name": "python3",
      "display_name": "Python 3"
    }
  },
  "cells": [
    {
      "cell_type": "code",
      "metadata": {
        "id": "PY2fx2XBN4n_",
        "outputId": "fc70dc8c-3ee0-475e-aa5f-6c09216b03d6",
        "colab": {
          "base_uri": "https://localhost:8080/",
          "height": 329
        }
      },
      "source": [
        "from sklearn.datasets import load_iris #set datos \n",
        "from sklearn.model_selection import train_test_split #para dividir datos\n",
        "from sklearn.tree import  DecisionTreeClassifier #clasificador\n",
        "#Cargar datos\n",
        "iris = load_iris()\n",
        "#Dividir aleatoriamente los datos\n",
        "resultado= train_test_split(iris['data'], iris['target'])\n",
        "datosEntrenamiento = resultado[0]\n",
        "datosPrueba = resultado[1]\n",
        "respuestasEntrenamiento =resultado[2]\n",
        "respuestasPrueba = resultado[3]\n",
        "#Crear el algoritmo de aprendizaje\n",
        "arbol1 = DecisionTreeClassifier(max_depth=3)\n",
        "arbol2= DecisionTreeClassifier(max_depth=5)\n",
        "arbol3 = DecisionTreeClassifier(max_depth=12)\n",
        "#Entrenarlo\n",
        "arbol1.fit(datosEntrenamiento,respuestasEntrenamiento)\n",
        "arbol2.fit(datosEntrenamiento,respuestasEntrenamiento)\n",
        "arbol3.fit(datosEntrenamiento,respuestasEntrenamiento)\n",
        "#Probando\n",
        "scoreTree1 = arbol1.score(datosPrueba, respuestasPrueba)*100\n",
        "scoreTree2 = arbol2.score(datosPrueba, respuestasPrueba)*100\n",
        "scoreTree3 = arbol3.score(datosPrueba, respuestasPrueba)*100\n",
        "#Mostrar resultado\n",
        "porcentaje_profundidad = [scoreTree1, scoreTree2, scoreTree3]\n",
        "\n",
        "print (f'El resultado de clasificar con arbol1 de deciones es {scoreTree1} %, con arbol2 de desiciones es {scoreTree2}% y con arbol3 de desiciones es {scoreTree3}% ')\n",
        "\n",
        "import matplotlib.pyplot as plt\n",
        "profundidad = [\"profundidad 3\",\"profundidad 5\",\"profundidad 12\"]\n",
        "plt.bar(profundidad, porcentaje_profundidad)\n",
        "plt.ylabel(\"Porcentaje\")\n",
        "plt.xlabel(\"Profundidad\")\n",
        "plt.title(\"Arbol de desiciones \")\n",
        "plt.show()\n",
        "plt.savefig(\"GraficoArbol.png\")\n",
        "\n",
        "\n"
      ],
      "execution_count": 6,
      "outputs": [
        {
          "output_type": "stream",
          "text": [
            "El resultado de clasificar con arbol1 de deciones es 97.36842105263158 %, con arbol2 de desiciones es 100.0% y con arbol3 de desiciones es 97.36842105263158% \n"
          ],
          "name": "stdout"
        },
        {
          "output_type": "display_data",
          "data": {
            "image/png": "[encoded data removed]",
            "text/plain": [
              "<Figure size 432x288 with 1 Axes>"
            ]
          },
          "metadata": {
            "tags": [],
            "needs_background": "light"
          }
        },
        {
          "output_type": "display_data",
          "data": {
            "text/plain": [
              "<Figure size 432x288 with 0 Axes>"
            ]
          },
          "metadata": {
            "tags": []
          }
        }
      ]
    }
  ]
}
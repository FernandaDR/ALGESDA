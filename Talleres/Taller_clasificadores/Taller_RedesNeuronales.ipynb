{
  "nbformat": 4,
  "nbformat_minor": 0,
  "metadata": {
    "colab": {
      "name": " Taller_RedesNeuronales.ipynb",
      "provenance": []
    },
    "kernelspec": {
      "name": "python3",
      "display_name": "Python 3"
    }
  },
  "cells": [
    {
      "cell_type": "code",
      "metadata": {
        "id": "ktlw7icp_yAt"
      },
      "source": [
        "import sklearn\n",
        "from sklearn.model_selection import train_test_split\n",
        "from sklearn.datasets import  load_iris\n",
        "from sklearn.neural_network import  MLPClassifier\n",
        "iris = load_iris()\n",
        "caracteristicas = iris.data\n",
        "objetivos = iris.target\n",
        "\n",
        "dataTrain, dataTest, targetTrain,targetTest = train_test_split(caracteristicas,objetivos)\n",
        "\n"
      ],
      "execution_count": 4,
      "outputs": []
    },
    {
      "cell_type": "code",
      "metadata": {
        "id": "PyrKJ_w2Bdkn",
        "outputId": "69b49017-a2b9-4e44-a8ab-dad1d74beda3",
        "colab": {
          "base_uri": "https://localhost:8080/",
          "height": 87
        }
      },
      "source": [
        "redNeuronal = MLPClassifier(max_iter=60, hidden_layer_sizes=[66,66])\n",
        "redNeuronal.fit(dataTrain,targetTrain)\n",
        "scoreRed = redNeuronal.score(dataTest,targetTest)*100\n",
        "print (scoreRed)"
      ],
      "execution_count": 16,
      "outputs": [
        {
          "output_type": "stream",
          "text": [
            "86.8421052631579\n"
          ],
          "name": "stdout"
        },
        {
          "output_type": "stream",
          "text": [
            "/usr/local/lib/python3.6/dist-packages/sklearn/neural_network/_multilayer_perceptron.py:571: ConvergenceWarning: Stochastic Optimizer: Maximum iterations (60) reached and the optimization hasn't converged yet.\n",
            "  % self.max_iter, ConvergenceWarning)\n"
          ],
          "name": "stderr"
        }
      ]
    },
    {
      "cell_type": "code",
      "metadata": {
        "id": "yByaIdqpLk4J",
        "outputId": "3bb408f3-e5c1-4d66-f5ce-e82c5596c8bf",
        "colab": {
          "base_uri": "https://localhost:8080/",
          "height": 34
        }
      },
      "source": [
        "import sklearn #Aprendizaje de máquina\n",
        "from sklearn.datasets import load_iris#SET DATOS\n",
        "from sklearn.model_selection import train_test_split#Division de datos\n",
        "from sklearn.neighbors import KNeighborsClassifier\n",
        "#para entrenar y para verificar\n",
        "iris=load_iris()\n",
        "\n",
        "datosEntrenamiento, datosPrueba,respuestasEntrenamiento,respuestaPrueba=train_test_split(iris['data'],iris['target'])\n",
        "\n",
        "knn1=KNeighborsClassifier(n_neighbors=3)\n",
        "knn1.fit(datosEntrenamiento,respuestasEntrenamiento)\n",
        "scoreKnn=knn1.score(datosPrueba,respuestaPrueba)*100\n",
        "print(scoreKnn)"
      ],
      "execution_count": 25,
      "outputs": [
        {
          "output_type": "stream",
          "text": [
            "94.73684210526315\n"
          ],
          "name": "stdout"
        }
      ]
    },
    {
      "cell_type": "code",
      "metadata": {
        "id": "D5zzCgsgMFon",
        "outputId": "fb66314a-9fe1-4e62-c57e-bbfd48a6385c",
        "colab": {
          "base_uri": "https://localhost:8080/",
          "height": 34
        }
      },
      "source": [
        "from sklearn.datasets import load_iris  \n",
        "from sklearn.model_selection import train_test_split \n",
        "from sklearn.tree import  DecisionTreeClassifier \n",
        "iris = load_iris()\n",
        "\n",
        "resultado= train_test_split(iris['data'], iris['target'])\n",
        "datosEntrenamiento = resultado[0]\n",
        "datosPrueba = resultado[1]\n",
        "respuestasEntrenamiento =resultado[2]\n",
        "respuestasPrueba = resultado[3]\n",
        "#Crear el algoritmo de aprendizaje\n",
        "arbol1= DecisionTreeClassifier(max_depth=5)\n",
        "#Entrenarlo\n",
        "arbol1.fit(datosEntrenamiento,respuestasEntrenamiento)\n",
        "#Probando\n",
        "scoreTree1 = arbol1.score(datosPrueba, respuestasPrueba)*100\n",
        "#Mostrar resultado\n",
        "print (f\"El resultado de clasificar con arbol1 de deciones es {scoreTree1} %\")\n"
      ],
      "execution_count": 26,
      "outputs": [
        {
          "output_type": "stream",
          "text": [
            "El resultado de clasificar con arbol1 de deciones es 97.36842105263158 %\n"
          ],
          "name": "stdout"
        }
      ]
    },
    {
      "cell_type": "code",
      "metadata": {
        "id": "xYrNBVeAMbCd",
        "outputId": "47b5fe01-c08a-4558-a2cf-bd0760df38f3",
        "colab": {
          "base_uri": "https://localhost:8080/",
          "height": 312
        }
      },
      "source": [
        "score= [scoreRed, scoreTree1, scoreKnn]\n",
        "import matplotlib.pyplot as plt\n",
        "x = [\"vecino 3\", \"profundidad 5\",\"red neuronal\"]\n",
        "plt.bar(x , score)\n",
        "plt.ylabel(\"Porcentaje\")\n",
        "plt.xlabel(\"pruebas\")\n",
        "plt.title(\"Comparación \")\n",
        "plt.show()\n",
        "plt.savefig(\"GraficoComparación.png\")\n"
      ],
      "execution_count": 27,
      "outputs": [
        {
          "output_type": "display_data",
          "data": {
            "image/png": "[encoded data removed]",
            "text/plain": [
              "<Figure size 432x288 with 1 Axes>"
            ]
          },
          "metadata": {
            "tags": [],
            "needs_background": "light"
          }
        },
        {
          "output_type": "display_data",
          "data": {
            "text/plain": [
              "<Figure size 432x288 with 0 Axes>"
            ]
          },
          "metadata": {
            "tags": []
          }
        }
      ]
    }
  ]
}